{
 "cells": [
  {
   "cell_type": "markdown",
   "metadata": {},
   "source": [
    "# Linear Regression Code\n",
    "\n",
    "Fits a straight line to data with arbitrary uncertainties\n",
    "\n",
    "Equation is of the form $ y = a x + b$\n",
    "\n",
    "It is assumed that the uncertainties in the x values are negligible, and that you know the uncertainties in the y-values.\n",
    "\n",
    "Reads the data in from a csv file (which can be created using any text editor or spreadsheet)\n",
    "\n",
    "Uses the statsmodel python package to do a weighted least-squares fit to the data. https://www.statsmodels.org/stable/index.html\n"
   ]
  },
  {
   "cell_type": "code",
   "execution_count": null,
   "metadata": {},
   "outputs": [],
   "source": [
    "import matplotlib.pyplot as plt\n",
    "import math\n",
    "import pandas\n",
    "import numpy\n",
    "import statsmodels.api as sm"
   ]
  },
  {
   "cell_type": "markdown",
   "metadata": {},
   "source": [
    "## Adapting the Program\n",
    "\n",
    "### Data format\n",
    "\n",
    "The program is looking for data in a csv file. You can create one from Excel or any other spreadsheet program. Make sure that the first row contains titles for the various columns.\n",
    "\n",
    "### Modify the following cell\n",
    "\n",
    "You should put the .csv data file in the same directory as this program. Edit the cell below tohave the correct name of the file you are using. You also need to tell it which columns you want to pick as your x, y and error data lists."
   ]
  },
  {
   "cell_type": "code",
   "execution_count": null,
   "metadata": {},
   "outputs": [],
   "source": [
    "# Read in the data and plots head of the file so you can check what you've got.\n",
    "data = pandas.read_csv(\"data01.csv\")  # Edit the name here to your data file.\n",
    "data.head()\n",
    "\n",
    "# Now pull out the column containing the x-values, the y-values and the uncertainties in the y-values.\n",
    "\n",
    "x = data['x'] # Edit the name here to whatever the column name you want is.\n",
    "y = data['y'] # Edit the name here to whatever the column name you want is.\n",
    "err_y = data['err']\n",
    "\n",
    "# And plot the data\n",
    "plt.errorbar(x,y, yerr=err_y, fmt=\"ko\")\n",
    "plt.show()"
   ]
  },
  {
   "cell_type": "markdown",
   "metadata": {},
   "source": [
    "## Model Fitting\n",
    "\n",
    "The following cell does the fitting. You should not need to modify anything here.|\n",
    "\n",
    "It will print out a whole bunch of statistics. The ones you are mainly interested in are in the middle table.\n",
    "\n",
    "**const** is the intercept - the \"coef\" is its value and the \"std err\" is the standard deviation in this value.\n",
    "\n",
    "**x** is the slope - the \"coef\" is its value and the \"std err\" is the standard deviation in this value."
   ]
  },
  {
   "cell_type": "code",
   "execution_count": null,
   "metadata": {},
   "outputs": [],
   "source": [
    "x1 = sm.add_constant(x)   # Tells the package that you want an intercept, not a line through zero.\n",
    "w = 1.0/(err_y**2)   # Calculates how much weight to give each point. Larger errors mean lower weights\n",
    "model = sm.WLS(y,x1,weights=w) # Generates model\n",
    "result = model.fit() # Generates fit\n",
    "result.summary() # Prints out lots of statistics of the fit"
   ]
  },
  {
   "cell_type": "markdown",
   "metadata": {},
   "source": [
    "## Plot data and model\n",
    "\n",
    "You can edit this to change the axes labels, to print out an image etc."
   ]
  },
  {
   "cell_type": "code",
   "execution_count": null,
   "metadata": {},
   "outputs": [],
   "source": [
    "plt.errorbar(x,y, yerr=err_y, fmt=\"ko\")\n",
    "bm = result.params[0]\n",
    "am = result.params[1]\n",
    "model = am*x+bm\n",
    "plt.plot(x,model,\"-r\")\n",
    "plt.xlabel(\"x-axis title\")\n",
    "plt.ylabel(\"y-axis title\")\n",
    "plt.savefig(\"Myplot.png\", dpi = 300) # Comment this out if you don't want an image saved. \n",
    "plt.show()"
   ]
  },
  {
   "cell_type": "code",
   "execution_count": null,
   "metadata": {},
   "outputs": [],
   "source": []
  }
 ],
 "metadata": {
  "kernelspec": {
   "display_name": "Python 3",
   "language": "python",
   "name": "python3"
  },
  "language_info": {
   "codemirror_mode": {
    "name": "ipython",
    "version": 3
   },
   "file_extension": ".py",
   "mimetype": "text/x-python",
   "name": "python",
   "nbconvert_exporter": "python",
   "pygments_lexer": "ipython3",
   "version": "3.6.8"
  }
 },
 "nbformat": 4,
 "nbformat_minor": 2
}
