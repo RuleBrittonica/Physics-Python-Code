{
 "cells": [
  {
   "cell_type": "code",
   "execution_count": 4,
   "metadata": {},
   "outputs": [],
   "source": [
    "import pandas as pd\n",
    "import matplotlib.pyplot as plt"
   ]
  },
  {
   "cell_type": "code",
   "execution_count": 3,
   "metadata": {},
   "outputs": [
    {
     "name": "stderr",
     "output_type": "stream",
     "text": [
      "C:\\ProgramData\\Anaconda3\\lib\\site-packages\\openpyxl\\worksheet\\_reader.py:312: UserWarning: Unknown extension is not supported and will be removed\n",
      "  warn(msg)\n"
     ]
    },
    {
     "data": {
      "text/html": [
       "<div>\n",
       "<style scoped>\n",
       "    .dataframe tbody tr th:only-of-type {\n",
       "        vertical-align: middle;\n",
       "    }\n",
       "\n",
       "    .dataframe tbody tr th {\n",
       "        vertical-align: top;\n",
       "    }\n",
       "\n",
       "    .dataframe thead th {\n",
       "        text-align: right;\n",
       "    }\n",
       "</style>\n",
       "<table border=\"1\" class=\"dataframe\">\n",
       "  <thead>\n",
       "    <tr style=\"text-align: right;\">\n",
       "      <th></th>\n",
       "      <th>SN</th>\n",
       "      <th>z</th>\n",
       "      <th>D</th>\n",
       "      <th>Uncertainty</th>\n",
       "    </tr>\n",
       "  </thead>\n",
       "  <tbody>\n",
       "    <tr>\n",
       "      <th>0</th>\n",
       "      <td>1992bo</td>\n",
       "      <td>0.018067</td>\n",
       "      <td>94.623716</td>\n",
       "      <td>39.741961</td>\n",
       "    </tr>\n",
       "    <tr>\n",
       "      <th>1</th>\n",
       "      <td>1992bc</td>\n",
       "      <td>0.020039</td>\n",
       "      <td>89.949758</td>\n",
       "      <td>26.984927</td>\n",
       "    </tr>\n",
       "    <tr>\n",
       "      <th>2</th>\n",
       "      <td>1992aq</td>\n",
       "      <td>0.100897</td>\n",
       "      <td>463.446920</td>\n",
       "      <td>213.185583</td>\n",
       "    </tr>\n",
       "    <tr>\n",
       "      <th>3</th>\n",
       "      <td>1992ae</td>\n",
       "      <td>0.074624</td>\n",
       "      <td>358.096437</td>\n",
       "      <td>136.076646</td>\n",
       "    </tr>\n",
       "    <tr>\n",
       "      <th>4</th>\n",
       "      <td>1992P</td>\n",
       "      <td>0.026235</td>\n",
       "      <td>131.219990</td>\n",
       "      <td>41.990397</td>\n",
       "    </tr>\n",
       "  </tbody>\n",
       "</table>\n",
       "</div>"
      ],
      "text/plain": [
       "       SN         z           D  Uncertainty\n",
       "0  1992bo  0.018067   94.623716    39.741961\n",
       "1  1992bc  0.020039   89.949758    26.984927\n",
       "2  1992aq  0.100897  463.446920   213.185583\n",
       "3  1992ae  0.074624  358.096437   136.076646\n",
       "4   1992P  0.026235  131.219990    41.990397"
      ]
     },
     "execution_count": 3,
     "metadata": {},
     "output_type": "execute_result"
    }
   ],
   "source": [
    "data = pd.read_excel(\"SupernovaData.xlsx\")\n",
    "data.head()"
   ]
  },
  {
   "cell_type": "markdown",
   "metadata": {},
   "source": [
    "Plotting with Python\n",
    "Now that we've imported the data, we can plot it using the matplotlib \"plot\" command. The command\n",
    "\n",
    "plt.plot(data.z, data.D, \"ro\")\n",
    "\n",
    "plots the \"z\" column from the data as the x-axis and the \"D\" column as the y-axis. The \"ro\" at the end sets the format. \"o\" plots circles, and \"r\" makes them red. \"g+\" would plot green \"+\" signs, \"k.\" would plot black dots.\n",
    "\n",
    "You can label your axes with the plt.xlabel(\"x text\") and plt.ylabel(\"y test\") commands.\n",
    "\n",
    "To save your plot use the command \n",
    "\n",
    "plt.savefig(\"NameofFile.png\", dpi=300) - you can save to many different formats."
   ]
  },
  {
   "cell_type": "code",
   "execution_count": null,
   "metadata": {},
   "outputs": [],
   "source": [
    "plt.errorbar(data.z, data.D, \"ro\")\n",
    "plt.xlabel(\"x text\")\n",
    "plt.ylabel(\"y test\")\n",
    "plt.savefig(\"Supernovaegraph1.png\", dpi=1000)"
   ]
  },
  {
   "cell_type": "markdown",
   "metadata": {},
   "source": [
    "Plotting Error Bars:\n",
    "To plot error bars, replace the \"plt.plot\" command with \"plt.errorbar\".\n",
    "\n",
    "You need to specify which column in the data hold the x- or y-axis errors, using a command like \"yerr=data.Uncertainties\".\n",
    "\n",
    "You also need the format, but now you need to make sure it's called \"fmt\" with a command like \"fmt=\"ro\" to get red circles.\n",
    "\n",
    "Arithmetic with Columns:\n",
    "You can create a new column of data by performing arithmetic operations on the existing ones. For example:\n",
    "\n",
    "a = 1/(1+data.z)\n",
    "\n",
    "creates a list of numbers called \"a\" containing 1/(1+z) for each value of z."
   ]
  },
  {
   "cell_type": "code",
   "execution_count": null,
   "metadata": {},
   "outputs": [],
   "source": [
    "plt.errorbar(data.z, data.D, yerr=data.Uncertainty, fmt=\"go\")\n",
    "plt.xlabel(\"x text\")\n",
    "plt.ylabel(\"y test\")\n",
    "plt.savefig(\"Supernovaegraph2.png\", dpi=1000)"
   ]
  }
 ],
 "metadata": {
  "interpreter": {
   "hash": "b3ba2566441a7c06988d0923437866b63cedc61552a5af99d1f4fb67d367b25f"
  },
  "kernelspec": {
   "display_name": "Python 3.9.7 ('base')",
   "language": "python",
   "name": "python3"
  },
  "language_info": {
   "codemirror_mode": {
    "name": "ipython",
    "version": 3
   },
   "file_extension": ".py",
   "mimetype": "text/x-python",
   "name": "python",
   "nbconvert_exporter": "python",
   "pygments_lexer": "ipython3",
   "version": "3.9.7"
  },
  "orig_nbformat": 4
 },
 "nbformat": 4,
 "nbformat_minor": 2
}
