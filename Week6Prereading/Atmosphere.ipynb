{
 "cells": [
  {
   "cell_type": "code",
   "execution_count": null,
   "metadata": {},
   "outputs": [],
   "source": [
    "# Import the plotting package\n",
    "import matplotlib.pyplot as plt\n",
    "import math"
   ]
  },
  {
   "cell_type": "code",
   "execution_count": null,
   "metadata": {},
   "outputs": [],
   "source": [
    "# Pick the starting conditions\n",
    "p = 101000\n",
    "h = 0.0\n",
    "g = 9.8\n",
    "\n",
    "# Pick the length step\n",
    "dh = 100.0\n",
    "\n",
    "# Set up a couple of lists which will store the values to plot\n",
    "xlist = []\n",
    "ylist = []\n",
    "\n",
    "\n",
    "# Set up a loop\n",
    "\n",
    "while h < 80000.0:\n",
    "    density = p/84000.0\n",
    "    \n",
    "    dp = - density*g*dh # Calculate the pressure change\n",
    "    \n",
    "    # Store whatever you want to plot in the lists.\n",
    "    xlist.append(h)\n",
    "    ylist.append(density)\n",
    "    \n",
    "    print(h, density, p)\n",
    "        \n",
    "    # Updates\n",
    "    h += dh\n",
    "    p += dp        \n"
   ]
  },
  {
   "cell_type": "code",
   "execution_count": null,
   "metadata": {},
   "outputs": [],
   "source": [
    "# Plot the two lists as a green line.    \n",
    "\n",
    "plt.plot(xlist,ylist,'-r')\n",
    "plt.xlabel(\"Height (m)\")\n",
    "plt.ylabel(\"Density ($kg\\, m^{-3}$)\")\n",
    "plt.show()"
   ]
  }
 ],
 "metadata": {
  "kernelspec": {
   "display_name": "Python 3",
   "language": "python",
   "name": "python3"
  },
  "language_info": {
   "codemirror_mode": {
    "name": "ipython",
    "version": 3
   },
   "file_extension": ".py",
   "mimetype": "text/x-python",
   "name": "python",
   "nbconvert_exporter": "python",
   "pygments_lexer": "ipython3",
   "version": "3.6.4"
  }
 },
 "nbformat": 4,
 "nbformat_minor": 2
}
