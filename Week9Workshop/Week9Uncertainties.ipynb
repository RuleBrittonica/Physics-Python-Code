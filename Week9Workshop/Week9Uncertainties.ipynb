{
 "cells": [
  {
   "cell_type": "markdown",
   "metadata": {},
   "source": [
    "# Lab 9 report - Matthew Britton"
   ]
  },
  {
   "cell_type": "markdown",
   "metadata": {},
   "source": [
    "## Importing all libaries that are required\n",
    "Redefining ufloat to be u. Also please go easy on the formatting - this is my first time writing LaTeX in a JupterNotebook :)"
   ]
  },
  {
   "cell_type": "code",
   "execution_count": 173,
   "metadata": {},
   "outputs": [],
   "source": [
    "from uncertainties import ufloat\n",
    "from uncertainties.umath import *\n",
    "def u (x,s):\n",
    "  return ufloat (x,s)"
   ]
  },
  {
   "cell_type": "markdown",
   "metadata": {},
   "source": [
    "## Initialising variables:\n",
    "These are the things we measured initially, using a ruler for h_1 and h_2, calipers for r_roll and micrometer for r_marble. \n",
    "* r_marble is the radius of the marble .\n",
    "* r_roll is the distance between the inside edges of the run, where the marble actually rolls down.\n",
    "* g is grabity.\n",
    "* h_1 is the height difference from the start of the marble run to the end .\n",
    "* h_2 is the height difference between the end of the marble run and the ground."
   ]
  },
  {
   "cell_type": "code",
   "execution_count": 174,
   "metadata": {},
   "outputs": [],
   "source": [
    "r_marble = u (0.0161, 0.0001)\n",
    "r_roll   = u (0.0088, 0.0001)\n",
    "g        = 9.8 \n",
    "h_1      = u (0.49, 0.0005) - u (0.035, 0.0005)\n",
    "h_2      = u (0.937, 0.0001)"
   ]
  },
  {
   "cell_type": "markdown",
   "metadata": {},
   "source": [
    "## Initialise data sets:\n",
    "Data is from the carbon paper and then was transfered to excel to calculate the standard deviation and standard error. Here is the data we gathered:\n",
    "| Set 1 (crosses) | Distance From edge of paper (+/- 0.5mm) | Distance from edge of run (+/-) 0.01m | Set 2 (dots) | Distance From edge of paper (+/- 0.5mm) | Distance from edge of run (+/-) 0.01m |\n",
    "|-----------------|-----------------------------------------|---------------------------------------|--------------|-----------------------------------------|---------------------------------------|\n",
    "| 1               | 0.187                                   | 0.877                                 | 1            | 0.243                                   | 0.933                                 |\n",
    "| 2               | 0.222                                   | 0.912                                 | 2            | 0.19                                    | 0.88                                  |\n",
    "| 3               | 0.221                                   | 0.911                                 | 3            | 0.204                                   | 0.894                                 |\n",
    "| 4               | 0.222                                   | 0.912                                 | 4            | 0.201                                   | 0.891                                 |\n",
    "| 5               | 0.204                                   | 0.894                                 | 5            | 0.199                                   | 0.889                                 |\n",
    "| 6               | 0.202                                   | 0.892                                 | 6            | 0.202                                   | 0.892                                 |\n",
    "| 7               | 0.21                                    | 0.9                                   | 7            | 0.197                                   | 0.887                                 |\n",
    "| 8               | 0.212                                   | 0.902                                 | 8            | 0.22                                    | 0.91                                  |\n",
    "| 9               | 0.218                                   | 0.908                                 | 9            | 0.21                                    | 0.9                                   |\n",
    "| 10              | 0.205                                   | 0.895                                 | 11           | 0.198                                   | 0.888                                 |\n",
    "| 11              | 0.213                                   | 0.903                                 | 12           | 0.219                                   | 0.909                                 |\n",
    "| 12              | 0.21                                    | 0.9                                   | 13           | 0.206                                   | 0.896                                 |\n",
    "| 13              | 0.219                                   | 0.909                                 | 14           | 0.214                                   | 0.904                                 |\n",
    "| 14              | 0.237                                   | 0.927                                 | 15           | 0.239                                   | 0.929                                 |\n",
    "| 15              | 0.213                                   | 0.903                                 | outlier - 10 | 0.109                                   | 0.799                                 |\n",
    "|                 |                 Average                 | 0.903                                 |              |                 Average                 | 0.900142857                           |\n",
    "|                 |            Standard Deviation           | 0.011027239                           |              |            Standard Deviation           | 0.015018356                           |\n",
    "|                 |             Standard Error              | 0.002947154                           |              |             Standard Error              | 0.004165343                           |"
   ]
  },
  {
   "cell_type": "code",
   "execution_count": 175,
   "metadata": {},
   "outputs": [],
   "source": [
    "pre_set1 = [0.187, 0.222, 0.221, 0.222, 0.204, 0.202, 0.21, 0.212, 0.218, 0.205, 0.213, 0.21, 0.219, 0.237, 0.213]\n",
    "pre_set2 = [0.243, 0.19, 0.204, 0.201, 0.199, 0.202, 0.197, 0.22, 0.21, 0.198, 0.219, 0.206, 0.214, 0.239] #outlier = 0.109 \n",
    "avg_1 = 0.903\n",
    "avg_2 = 0.900142857\n",
    "stdev_1 = 0.011027239\n",
    "stdev_2 = 0.015018356\n",
    "sterror_1 = 0.002947154\n",
    "sterror_2 = 0.004165343 \n",
    "\n",
    "t0 = (2 * h_2 / g) ** 0.5 # ~= 0.4289\n",
    "v0_m1 = 3.13 \n",
    "v0_m2 = 2.65 \n",
    "d0_m1 = 1.343  \n",
    "d0_m2 = 1.134 \n",
    "\n",
    "added_distance = u (0.69, 0.005)"
   ]
  },
  {
   "cell_type": "markdown",
   "metadata": {},
   "source": [
    "## Setup Equations\n",
    "### For non rolling model:\n",
    "\n",
    "$$m * g * h_1 = \\frac{1}{2} * m * v ^ 2$$\n",
    "$$v = (2 * g * h _ 1) ^ \\frac{1}{2}$$\n",
    "$$u_v = 0, s = (-h_2), a = -9.8$$ \n",
    "$$-h_2 = \\frac{1}{2} * a * t ^ 2$$ \n",
    "$$t = (2 * \\frac{h_2}{a}) ^ 2$$\n",
    "$$u_h = (2 * g * h_1) ^ 2$$\n",
    "Hence: $$s_1 = u_h * t = 2 * (h_1 * h_2) ^ \\frac{1}{2}$$ This is printed below as model 1\n",
    "\n",
    "### For the rolling model:\n",
    "\n",
    "$$I = \\frac{2}{5} * m * r ^ 2$$\n",
    "$$\\omega = (\\frac{v}{r}) ^ 2 $$\n",
    "\n",
    "$$m * g * h = \\frac{1}{2} * m * v ^ 2 + 1 / 2 * I * w ^ 2 $$\n",
    "$$          = \\frac{1}{2} * m * v ^ 2 + \\frac{1}{2} * \\frac{2}{5} * m * r ^ 2 * (\\frac{v}{r}) ^ 2$$\n",
    "$$          = m * v ^ 2 * \\frac{7}{10} $$\n",
    "$$    g * h = \\frac{7}{10} * v ^ 2 $$\n",
    "\n",
    "Hence:\n",
    "$$ s_2 = u * t = (\\frac{20}{7} * h_1 * h_2) ^ 2$$ \n",
    "This is printed below as model 2\n",
    "\n",
    "However, the radius the marble rolls down is actually smaller than the radius of the marble - this means we need to account for a larger amount of energy lost to the rolling motion, which will decrease the theoretical distance the marble rolls. This is calculated below. \n",
    "\n",
    "$$g * h = v ^ 2 * (\\frac{1}{2} + \\frac{1}{5}) * (\\frac{r_{marble}}{r_{roll}}) ^ 2$$\n",
    "$$      = v ^ 2 * (\\frac{1}{2} + \\frac{1}{5}) * (\\frac{~8.05}{~6.74} ) ^ 2$$\n",
    "$$      = v ^ 2 * ~0.785$$\n",
    "$$    v = (\\frac{g * h}{~0.785})^\\frac{1}{2}$$\n",
    "Hence:\n",
    "$$s_3 = v * t = \\frac{g * h_1}{0.785}) ^ \\frac{1}{2} * (\\frac{2 * h_2}{g}) ^ 2$$\n",
    "This is printed below as model 3\n",
    "\n",
    "Doing some theoretical calculations (these are also defined in the above module): \n",
    "$$t = 2 * (\\frac{h_2}{g}) ^ \\frac{1}{2} = ~0.4289$$\n",
    "$$v_{m1} ~= 3.13 ms^{-1}$$\n",
    "$$v_{m2} ~= 2.65 ms^{-1}$$\n",
    "$$d_{m1} ~= 1.343 ms^{-1}$$\n",
    "$$d_{m2} ~= 1.134 ms^{-1}$$"
   ]
  },
  {
   "cell_type": "code",
   "execution_count": 176,
   "metadata": {},
   "outputs": [],
   "source": [
    "# r_roll = math.sqrt (r_marble ** 2 - w_rail ** 2)\n",
    "# v0 = math.sqrt (g * h_1 * (0.5 + 0.2 * (r_marble / r_roll)))\n",
    "\n",
    "set1 = [u (x, 0.0005) + added_distance for x in pre_set1]\n",
    "set2 = [u (x, 0.0005) + added_distance for x in pre_set2]\n",
    "\n",
    "new_r = r_marble / r_roll\n",
    "t = (2 * h_2 / g) ** 0.5\n",
    "\n",
    "v1 = (g * h_1 / 0.5) ** 0.5 # calculation for distance using model 1, with error calculations.\n",
    "v2 = ((g * h_1) / (0.5 + 0.2)) ** 0.5 # calculation for distance using model 3, with error calculations.\n",
    "v3 = (g * h_1 / (0.5 + 0.2 * new_r) ** 2) ** 0.5 # calculation for distance using model 3, with error calculations.\n",
    "\n",
    "d1 = v1 * t \n",
    "d2 = v2 * t \n",
    "d3 = v3 * t\n",
    "\n"
   ]
  },
  {
   "cell_type": "markdown",
   "metadata": {},
   "source": [
    "## Print the sets with error to standard output"
   ]
  },
  {
   "cell_type": "code",
   "execution_count": 177,
   "metadata": {},
   "outputs": [
    {
     "name": "stdout",
     "output_type": "stream",
     "text": [
      "[0.877+/-0.005024937810560445, 0.9119999999999999+/-0.005024937810560445, 0.9109999999999999+/-0.005024937810560445, 0.9119999999999999+/-0.005024937810560445, 0.8939999999999999+/-0.005024937810560445, 0.8919999999999999+/-0.005024937810560445, 0.8999999999999999+/-0.005024937810560445, 0.9019999999999999+/-0.005024937810560445, 0.9079999999999999+/-0.005024937810560445, 0.8949999999999999+/-0.005024937810560445, 0.9029999999999999+/-0.005024937810560445, 0.8999999999999999+/-0.005024937810560445, 0.9089999999999999+/-0.005024937810560445, 0.9269999999999999+/-0.005024937810560445, 0.9029999999999999+/-0.005024937810560445]\n",
      "[0.9329999999999999+/-0.005024937810560445, 0.8799999999999999+/-0.005024937810560445, 0.8939999999999999+/-0.005024937810560445, 0.891+/-0.005024937810560445, 0.889+/-0.005024937810560445, 0.8919999999999999+/-0.005024937810560445, 0.887+/-0.005024937810560445, 0.9099999999999999+/-0.005024937810560445, 0.8999999999999999+/-0.005024937810560445, 0.8879999999999999+/-0.005024937810560445, 0.9089999999999999+/-0.005024937810560445, 0.8959999999999999+/-0.005024937810560445, 0.9039999999999999+/-0.005024937810560445, 0.9289999999999999+/-0.005024937810560445]\n"
     ]
    }
   ],
   "source": [
    "print (set1)\n",
    "print (set2)"
   ]
  },
  {
   "cell_type": "markdown",
   "metadata": {},
   "source": [
    "Print the calculated distances with their errors to the standard output."
   ]
  },
  {
   "cell_type": "code",
   "execution_count": 178,
   "metadata": {},
   "outputs": [
    {
     "name": "stdout",
     "output_type": "stream",
     "text": [
      "Prediction for model 1 is: 1.343\n",
      "Distance calculated with model 1 is:  1.3059+/-0.0010\n",
      "Difference between prediction and actual for model 1 is:  0.0371+/-0.0010\n",
      "Prediction for models 2 and 3 are:  1.134\n",
      "Distance calculated with model 2 is:  1.1037+/-0.0009\n",
      "Difference between prediction and actual for model 2 is:  0.0303+/-0.0009\n",
      "Distance calculated with model 3 is:  1.066+/-0.006\n",
      "Difference between prediction and actual for model 3 is:  0.068+/-0.006\n",
      "Hence it is clear that model three is a much better model than either model one or two, as the difference\n",
      "between the theoretical and expected values is smaller than even that of model two by a factor of 5.\n"
     ]
    }
   ],
   "source": [
    "print (\"Prediction for model 1 is:\", d0_m1)\n",
    "print (\"Distance calculated with model 1 is: \", d1)\n",
    "print (\"Difference between prediction and actual for model 1 is: \", d0_m1 - d1)\n",
    "print (\"Prediction for models 2 and 3 are: \", d0_m2)\n",
    "print (\"Distance calculated with model 2 is: \", d2)\n",
    "print (\"Difference between prediction and actual for model 2 is: \", d0_m2 - d2)\n",
    "print (\"Distance calculated with model 3 is: \", d3)\n",
    "print (\"Difference between prediction and actual for model 3 is: \", d0_m2 - d3)\n",
    "print (\"Hence it is clear that model three is a much better model than either model one or two, as the difference\")\n",
    "print (\"between the theoretical and expected values is smaller than even that of model two by a factor of 5.\")"
   ]
  },
  {
   "cell_type": "markdown",
   "metadata": {},
   "source": [
    "## Final Results\n",
    "Prediction for model 1 is: 1.343\n",
    "Distance calculated with model 1 is:  1.3059+/-0.0010\n",
    "Difference between prediction and actual for model 1 is:  0.0371+/-0.0010\n",
    "Prediction for models 2 and 3 are:  1.134\n",
    "Distance calculated with model 2 is:  1.1037+/-0.0009\n",
    "Difference between prediction and actual for model 2 is:  0.0303+/-0.0009\n",
    "Distance calculated with model 3 is:  1.066+/-0.006\n",
    "Difference between prediction and actual for model 3 is:  0.068+/-0.006\n",
    "Hence it is clear that model three is a much better model than either model one or two, as the difference\n",
    "between the theoretical and expected values is smaller than even that of model two by a factor of 5.\n",
    "Overall the difference between the model and the observations was relatively fairly large in terms of standard deviations for both models 1 and 2. \n",
    "However, the difference between the model and the observations for model 3 was significantly smaller. There is still some error, \n",
    "with the measured being ~6.8cm shorter than the model, indicating that this rolling energy accounts for a significant amount of the difference, but that \n",
    "other issues such as air resistance (drag), need to be accounted for as well before we can get a model that approaches \n",
    "the observations.\n"
   ]
  },
  {
   "cell_type": "markdown",
   "metadata": {},
   "source": [
    "## Visual error calculations: \n",
    "\n",
    "I completely forgot to take a photograph of the carbon paper, so here are the results, sans a photograph.\n",
    "Standard deviation for model 1 = ~ 0.01 - 0.015m (every point in that 2/3rds circle was at most 0.015m from the average point)\n",
    "Standard deviation for model 2 = ~ 0.015 - 0.02m (every point in that 2/3rds circle was at most 0.020m from the average point)\n",
    "Standard error =  0.02 - 0.0015 = ~0.005m \n"
   ]
  }
 ],
 "metadata": {
  "interpreter": {
   "hash": "b3ba2566441a7c06988d0923437866b63cedc61552a5af99d1f4fb67d367b25f"
  },
  "kernelspec": {
   "display_name": "Python 3.9.7 ('base')",
   "language": "python",
   "name": "python3"
  },
  "language_info": {
   "codemirror_mode": {
    "name": "ipython",
    "version": 3
   },
   "file_extension": ".py",
   "mimetype": "text/x-python",
   "name": "python",
   "nbconvert_exporter": "python",
   "pygments_lexer": "ipython3",
   "version": "3.9.7"
  },
  "orig_nbformat": 4
 },
 "nbformat": 4,
 "nbformat_minor": 2
}
