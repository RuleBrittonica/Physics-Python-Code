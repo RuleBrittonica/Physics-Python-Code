{
 "cells": [
  {
   "cell_type": "code",
   "execution_count": 19,
   "metadata": {},
   "outputs": [],
   "source": [
    "from uncertainties import ufloat\n",
    "from uncertainties.umath import *\n",
    "import pandas as pd\n",
    "import matplotlib.pyplot as plt\n",
    "import math \n",
    "def u (x,s):\n",
    "  return ufloat (x,s)"
   ]
  },
  {
   "cell_type": "markdown",
   "metadata": {},
   "source": [
    "Initialise variables:\n",
    "These are the things we measured initially"
   ]
  },
  {
   "cell_type": "code",
   "execution_count": 20,
   "metadata": {},
   "outputs": [],
   "source": [
    "r_marble = u (0.0161, 0.0001)\n",
    "r_roll   = u (0.0088, 0.0001)\n",
    "g        = 9.8 \n",
    "h_1      = u (0.49, 0.0005) - u (0.035, 0.0005)\n",
    "h_2      = u (0.937, 0.0001)"
   ]
  },
  {
   "cell_type": "markdown",
   "metadata": {},
   "source": [
    "Initialise data sets:\n",
    "This is the data gathered off of the carbon paper\n",
    "Data is from the carbon paper and then was transfered to excel to calculate the standard deviation and standard error "
   ]
  },
  {
   "cell_type": "code",
   "execution_count": 21,
   "metadata": {},
   "outputs": [],
   "source": [
    "pre_set1 = [0.187, 0.222, 0.221, 0.222, 0.204, 0.202, 0.21, 0.212, 0.218, 0.205, 0.213, 0.21, 0.219, 0.237, 0.213]\n",
    "pre_set2 = [0.243, 0.19, 0.204, 0.201, 0.199, 0.202, 0.197, 0.22, 0.21, 0.198, 0.219, 0.206, 0.214, 0.239] #outlier = 0.109 \n",
    "avg_1 = 0.903\n",
    "avg_2 = 0.900142857\n",
    "stdev_1 = 0.011027239\n",
    "stdev_2 = 0.015018356\n",
    "sterror_1 = 0.002947154\n",
    "sterror_2 = 0.004165343 \n",
    "\n",
    "added_distance = u (0.69, 0.005)"
   ]
  },
  {
   "cell_type": "markdown",
   "metadata": {},
   "source": [
    "Setup Equations\n",
    "For non rolling model:\n",
    "\n",
    "m * g * h_1 = 1 / 2 * m * v ** 2 \n",
    "v = sqrt (2 * g * h _ 1)\n",
    "u_v  = 0, s = -h_2, a = -9.8 \n",
    "-h_2 = 1 / 2 * a * t ** 2 \n",
    "t = sqrt (2 * h_2 / a)\n",
    "u_h = sqrt (2 * g * h_1)\n",
    "hence s_1 = u_h * t = 2 * sqrt (h_1 * h_2)\n",
    "\n",
    "For the rolling model:\n",
    "\n",
    "I = (2 / 5) * m * r ** 2\n",
    "w = (v / r) ** 2 \n",
    "\n",
    "m * g * h = 1 / 2 * m * v ** 2 + 1 / 2 * I * w ** 2 \n",
    "          = 1 / 2 * m * v ** 2 + 1 / 2 * 2 / 5 * m * r ** 2 * ((v / r) ** 2)\n",
    "          = m * v ** 2 * (7 / 10)\n",
    "    g * h = 7 / 10 * v ** 2 \n",
    "\n",
    "s = u * t = sqrt(20 / 7 * h_1 * h_2)\n",
    "\n",
    "however, the radius the marble rolls down is actually smaller than the radius of the marble - this means we need to account for a larger amount of energy lost to the rolling motion, which will decrease the theoretical distance the marble rolls. This is calculated below. \n",
    "\n",
    "g * h = v ** 2 * (1 / 2 + 1 / 5 * (r_marble / r_roll) ** 2)\n",
    "      = v ** 2 * (1 / 2 + 1 / 5 * (~8.05 / ~6.74) ** 2)\n",
    "      = v ** 2 * (~0.785)\n",
    "    v = sqrt(g * h / ~0.785)\n",
    "hence s_2 = v * t = sqrt(g * h / ~0.785) * sqrt (2 * h_2 / g)\n",
    "\n",
    "doing some theoretical calculations (these are also defined in the above module): \n",
    "t = sqrt (2 * h_2 / g) = ~0.4289\n",
    "v_m1 ~= 3.13 m/s\n",
    "v_m2 ~= 2.65 m/s\n",
    "d_m1 ~= 1.343 m/s \n",
    "d_m2 ~= 1.134 m/s"
   ]
  },
  {
   "cell_type": "code",
   "execution_count": 22,
   "metadata": {},
   "outputs": [],
   "source": [
    "# r_roll = math.sqrt (r_marble ** 2 - w_rail ** 2)\n",
    "# v0 = math.sqrt (g * h_1 * (0.5 + 0.2 * (r_marble / r_roll)))\n",
    "\n",
    "set1 = [u (x, 0.0005) + added_distance for x in pre_set1]\n",
    "set2 = [u (x, 0.0005) + added_distance for x in pre_set2]\n",
    "\n"
   ]
  },
  {
   "cell_type": "markdown",
   "metadata": {},
   "source": [
    "Print to standard output"
   ]
  },
  {
   "cell_type": "code",
   "execution_count": 23,
   "metadata": {},
   "outputs": [
    {
     "name": "stdout",
     "output_type": "stream",
     "text": [
      "[0.877+/-0.005024937810560445, 0.9119999999999999+/-0.005024937810560445, 0.9109999999999999+/-0.005024937810560445, 0.9119999999999999+/-0.005024937810560445, 0.8939999999999999+/-0.005024937810560445, 0.8919999999999999+/-0.005024937810560445, 0.8999999999999999+/-0.005024937810560445, 0.9019999999999999+/-0.005024937810560445, 0.9079999999999999+/-0.005024937810560445, 0.8949999999999999+/-0.005024937810560445, 0.9029999999999999+/-0.005024937810560445, 0.8999999999999999+/-0.005024937810560445, 0.9089999999999999+/-0.005024937810560445, 0.9269999999999999+/-0.005024937810560445, 0.9029999999999999+/-0.005024937810560445]\n",
      "[0.9329999999999999+/-0.005024937810560445, 0.8799999999999999+/-0.005024937810560445, 0.8939999999999999+/-0.005024937810560445, 0.891+/-0.005024937810560445, 0.889+/-0.005024937810560445, 0.8919999999999999+/-0.005024937810560445, 0.887+/-0.005024937810560445, 0.9099999999999999+/-0.005024937810560445, 0.8999999999999999+/-0.005024937810560445, 0.8879999999999999+/-0.005024937810560445, 0.9089999999999999+/-0.005024937810560445, 0.8959999999999999+/-0.005024937810560445, 0.9039999999999999+/-0.005024937810560445, 0.9289999999999999+/-0.005024937810560445]\n"
     ]
    }
   ],
   "source": [
    "print (set1)\n",
    "print (set2)"
   ]
  }
 ],
 "metadata": {
  "interpreter": {
   "hash": "b3ba2566441a7c06988d0923437866b63cedc61552a5af99d1f4fb67d367b25f"
  },
  "kernelspec": {
   "display_name": "Python 3.9.7 ('base')",
   "language": "python",
   "name": "python3"
  },
  "language_info": {
   "codemirror_mode": {
    "name": "ipython",
    "version": 3
   },
   "file_extension": ".py",
   "mimetype": "text/x-python",
   "name": "python",
   "nbconvert_exporter": "python",
   "pygments_lexer": "ipython3",
   "version": "3.9.7"
  },
  "orig_nbformat": 4
 },
 "nbformat": 4,
 "nbformat_minor": 2
}
