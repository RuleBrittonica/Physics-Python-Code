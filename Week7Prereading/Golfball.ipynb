{
 "cells": [
  {
   "cell_type": "code",
   "execution_count": 5,
   "metadata": {},
   "outputs": [],
   "source": [
    "import matplotlib.pyplot as plt\n",
    "import math"
   ]
  },
  {
   "cell_type": "code",
   "execution_count": 6,
   "metadata": {},
   "outputs": [],
   "source": [
    "# Set constants\n",
    "\n",
    "rball = 0.021\n",
    "Aball = math.pi*rball**2\n",
    "mball = 0.046\n",
    "C = 0.2\n",
    "g = 9.8\n",
    "rho = 1.2\n",
    "vwind = 10 \n",
    "# Pre-compute drag constant\n",
    "\n",
    "dragconstant = 0.5*C*rho*Aball"
   ]
  },
  {
   "cell_type": "code",
   "execution_count": 7,
   "metadata": {},
   "outputs": [],
   "source": [
    "#Set up starting conditions\n",
    "\n",
    "theta = 13.0*math.pi/180.0  # Convert to radians built in\n",
    "v0 = 60.0\n",
    "\n",
    "x = 0.0\n",
    "y = 0.0\n",
    "z = 0.01\n",
    "\n",
    "vx = v0*math.cos(theta)\n",
    "vy = 0.0\n",
    "vz = v0*math.sin(theta)\n",
    "\n",
    "t = 0.0\n",
    "dt = 0.01\n",
    "\n",
    "xlist = []\n",
    "ylist = []\n",
    "\n",
    "# loop\n",
    "while z > 0.0:\n",
    "    # vx = vx - vwind \n",
    "    # Compute Force\n",
    "    magv = math.sqrt(vx**2 + vy**2 + vz**2)\n",
    "    \n",
    "    fx = -dragconstant*magv*vx\n",
    "    fy = -dragconstant*magv*vy\n",
    "    fz = -dragconstant*magv*vz - g*mball\n",
    "\n",
    "    # Update the quantities\n",
    "    vx += fx*dt/mball\n",
    "    vy += fy*dt/mball\n",
    "    vz += fz*dt/mball\n",
    "    \n",
    "    x += vx*dt\n",
    "    y += vy*dt\n",
    "    z += vz*dt\n",
    "    \n",
    "    t += dt\n",
    "    \n",
    "    # Save them in lists\n",
    "    xlist.append(x)\n",
    "    ylist.append(z)\n"
   ]
  },
  {
   "cell_type": "code",
   "execution_count": 8,
   "metadata": {},
   "outputs": [
    {
     "data": {
      "image/png": "[encoded data removed]",
      "text/plain": [
       "<Figure size 432x288 with 1 Axes>"
      ]
     },
     "metadata": {
      "needs_background": "light"
     },
     "output_type": "display_data"
    }
   ],
   "source": [
    "# Plot the results \n",
    "plt.plot(xlist,ylist,\"-g\")\n",
    "plt.axis(\"equal\")\n",
    "plt.xlabel(\"x (m)\")\n",
    "plt.ylabel(\"y (m)\")\n",
    "plt.show()"
   ]
  },
  {
   "cell_type": "code",
   "execution_count": null,
   "metadata": {},
   "outputs": [],
   "source": []
  }
 ],
 "metadata": {
  "kernelspec": {
   "display_name": "Python 3",
   "language": "python",
   "name": "python3"
  },
  "language_info": {
   "codemirror_mode": {
    "name": "ipython",
    "version": 3
   },
   "file_extension": ".py",
   "mimetype": "text/x-python",
   "name": "python",
   "nbconvert_exporter": "python",
   "pygments_lexer": "ipython3",
   "version": "3.9.7"
  }
 },
 "nbformat": 4,
 "nbformat_minor": 2
}
